{
 "cells": [
  {
   "cell_type": "code",
   "execution_count": 9,
   "metadata": {},
   "outputs": [],
   "source": [
    "# Making a basic Bokeh line graph\n",
    "\n",
    "# import neede modules\n",
    "from bokeh.plotting import figure\n",
    "from bokeh.io import output_file, show\n",
    "\n",
    "# prepare some data\n",
    "x = [i for i in range(1, 6)]\n",
    "y = [i for i in range(6, 11)]\n",
    "\n",
    "# x = [3, 7.5, 10]\n",
    "# y = [3, 6, 9]\n",
    "\n",
    "#prepare the output file\n",
    "output_file(\"Line.html\")\n",
    "\n",
    "#create a figure object\n",
    "f = figure()\n",
    "\n",
    "#create a line plot\n",
    "f.line(x, y)\n",
    "# f.triangle(x, y)\n",
    "# f.circle(x, y)\n",
    "show(f)"
   ]
  },
  {
   "cell_type": "code",
   "execution_count": 10,
   "metadata": {},
   "outputs": [],
   "source": [
    "# Making a basic Bokeh line graph\n",
    "\n",
    "# import neede modules\n",
    "from bokeh.plotting import figure\n",
    "from bokeh.io import output_file, show\n",
    "import pandas as pd\n",
    "\n",
    "# prepare some data\n",
    "df = pd.read_csv(\"data.csv\")\n",
    "x = df[\"x\"]\n",
    "y = df[\"y\"]\n",
    "\n",
    "# prepare the output file\n",
    "output_file(\"Line_from_CSV.html\")\n",
    "\n",
    "# create a figure object\n",
    "f = figure()\n",
    "\n",
    "# create a line plot\n",
    "f.line(x, y)\n",
    "# f.triangle(x, y)\n",
    "# f.circle(x, y)\n",
    "show(f)\n"
   ]
  },
  {
   "cell_type": "code",
   "execution_count": 13,
   "metadata": {},
   "outputs": [
    {
     "data": {
      "text/html": [
       "<div>\n",
       "<style scoped>\n",
       "    .dataframe tbody tr th:only-of-type {\n",
       "        vertical-align: middle;\n",
       "    }\n",
       "\n",
       "    .dataframe tbody tr th {\n",
       "        vertical-align: top;\n",
       "    }\n",
       "\n",
       "    .dataframe thead th {\n",
       "        text-align: right;\n",
       "    }\n",
       "</style>\n",
       "<table border=\"1\" class=\"dataframe\">\n",
       "  <thead>\n",
       "    <tr style=\"text-align: right;\">\n",
       "      <th></th>\n",
       "      <th>x</th>\n",
       "      <th>y</th>\n",
       "    </tr>\n",
       "  </thead>\n",
       "  <tbody>\n",
       "    <tr>\n",
       "      <th>0</th>\n",
       "      <td>1</td>\n",
       "      <td>6</td>\n",
       "    </tr>\n",
       "    <tr>\n",
       "      <th>1</th>\n",
       "      <td>2</td>\n",
       "      <td>7</td>\n",
       "    </tr>\n",
       "    <tr>\n",
       "      <th>2</th>\n",
       "      <td>3</td>\n",
       "      <td>8</td>\n",
       "    </tr>\n",
       "    <tr>\n",
       "      <th>3</th>\n",
       "      <td>4</td>\n",
       "      <td>9</td>\n",
       "    </tr>\n",
       "    <tr>\n",
       "      <th>4</th>\n",
       "      <td>5</td>\n",
       "      <td>10</td>\n",
       "    </tr>\n",
       "  </tbody>\n",
       "</table>\n",
       "</div>"
      ],
      "text/plain": [
       "   x   y\n",
       "0  1   6\n",
       "1  2   7\n",
       "2  3   8\n",
       "3  4   9\n",
       "4  5  10"
      ]
     },
     "execution_count": 13,
     "metadata": {},
     "output_type": "execute_result"
    }
   ],
   "source": [
    "df"
   ]
  },
  {
   "cell_type": "code",
   "execution_count": 16,
   "metadata": {},
   "outputs": [],
   "source": [
    "bachelor_df = pd.read_csv(\"https://pythonizing.github.io/data/bachelors.csv\")\n",
    "year = bachelor_df.Year\n",
    "engineering = bachelor_df.Engineering\n",
    "\n",
    "# prepare the output file\n",
    "output_file(\"Line_from_CSV.html\")\n",
    "\n",
    "# create a figure object\n",
    "f = figure()\n",
    "\n",
    "# create a line plot\n",
    "f.line(year, engineering)\n",
    "\n",
    "show(f)\n"
   ]
  },
  {
   "cell_type": "code",
   "execution_count": 22,
   "metadata": {},
   "outputs": [],
   "source": [
    "weather_df = pd.read_excel(\n",
    "    \"weather-data.xlsx\", sheet_name=0)\n",
    "\n",
    "weather_df[\"Temperature\"] = weather_df[\"Temperature\"]/10\n",
    "weather_df[\"Pressure\"] = weather_df[\"Pressure\"]/10\n",
    "\n",
    "p = figure(width=500, height=400, tools='pan')\n",
    "\n",
    "p.title.text = \"Temperature and Air Pressure\"\n",
    "p.title.text_color = \"Gray\"\n",
    "p.title.text_font = \"times\"\n",
    "p.title.text_font_style = \"bold\"\n",
    "p.xaxis.minor_tick_line_color = None\n",
    "p.yaxis.minor_tick_line_color = None\n",
    "p.xaxis.axis_label = \"Temperature (°C)\"\n",
    "p.yaxis.axis_label = \"Pressure (hPa)\"\n",
    "\n",
    "p.circle(weather_df[\"Temperature\"], weather_df[\"Pressure\"], size=0.5)\n",
    "output_file(\"Weather.html\")\n",
    "show(p)\n"
   ]
  },
  {
   "cell_type": "code",
   "execution_count": 30,
   "metadata": {},
   "outputs": [],
   "source": [
    "from bokeh.plotting import figure, output_file, show\n",
    "\n",
    "p = figure(width=500, height=400, tools='pan')\n",
    "\n",
    "p.title.text = \"Earthquakes\"\n",
    "p.title.text_color = \"Orange\"\n",
    "p.title.text_font = \"times\"\n",
    "p.title.text_font_style = \"italic\"\n",
    "p.yaxis.minor_tick_line_color = \"Yellow\"\n",
    "p.xaxis.axis_label = \"Times\"\n",
    "p.yaxis.axis_label = \"Value\"\n",
    "\n",
    "# p.circle([1, 2, 3, 4, 5], [5, 6, 5, 5, 3], size=[\n",
    "#          i*2 for i in [8, 12, 14, 15, 20]], color=\"red\", alpha=0.5)\n",
    "\n",
    "p.line([1, 2, 3, 4, 5], [5, 6, 5, 5, 3], line_width=2, color=\"red\", alpha=0.5)\n",
    "p.circle([i*2 for i in [1, 2, 3, 4, 5]], [5, 6, 5, 5, 3], size=8, color=\"olive\", alpha=0.5)\n",
    "\n",
    "output_file(\"Scatter_plotting.html\")\n",
    "show(p)\n"
   ]
  },
  {
   "cell_type": "code",
   "execution_count": 31,
   "metadata": {},
   "outputs": [],
   "source": [
    "from bokeh.plotting import figure, output_file, show\n",
    "import pandas as pd\n",
    "\n",
    "adbe_df = pd.read_csv(\"adbe.csv\", parse_dates=[\"Date\"])\n",
    "\n",
    "p = figure(width=500, height=250, x_axis_type=\"datetime\", sizing_mode=\"scale_both\")\n",
    "\n",
    "p.line(adbe_df[\"Date\"], adbe_df[\"Close\"], color=\"Orange\", alpha=0.5)\n",
    "\n",
    "\n",
    "output_file(\"TimeSeries.html\")\n",
    "\n",
    "show(p)"
   ]
  },
  {
   "cell_type": "code",
   "execution_count": 32,
   "metadata": {},
   "outputs": [],
   "source": [
    "import numpy as np\n",
    "import pandas as pd\n",
    "\n",
    "from bokeh.palettes import tol\n",
    "from bokeh.plotting import figure, show\n",
    "\n",
    "N = 10\n",
    "df = pd.DataFrame(np.random.randint(10, 100, size=(15, N))).add_prefix('y')\n",
    "\n",
    "p = figure(x_range=(0, len(df)-1), y_range=(0, 800), sizing_mode=\"scale_both\")\n",
    "p.grid.minor_grid_line_color = '#eeeeee'\n",
    "\n",
    "names = [f\"y{i}\" for i in range(N)]\n",
    "p.varea_stack(stackers=names, x='index',\n",
    "              color=tol['Sunset'][N], legend_label=names, source=df)\n",
    "\n",
    "p.legend.orientation = \"horizontal\"\n",
    "p.legend.background_fill_color = \"#fafafa\"\n",
    "\n",
    "show(p)\n"
   ]
  }
 ],
 "metadata": {
  "kernelspec": {
   "display_name": "python-practice",
   "language": "python",
   "name": "python3"
  },
  "language_info": {
   "codemirror_mode": {
    "name": "ipython",
    "version": 3
   },
   "file_extension": ".py",
   "mimetype": "text/x-python",
   "name": "python",
   "nbconvert_exporter": "python",
   "pygments_lexer": "ipython3",
   "version": "3.10.8"
  },
  "orig_nbformat": 4,
  "vscode": {
   "interpreter": {
    "hash": "fda05d189c143cbcd95bac37e239f31af26d7c4b08aaacb20224652db7a53502"
   }
  }
 },
 "nbformat": 4,
 "nbformat_minor": 2
}
